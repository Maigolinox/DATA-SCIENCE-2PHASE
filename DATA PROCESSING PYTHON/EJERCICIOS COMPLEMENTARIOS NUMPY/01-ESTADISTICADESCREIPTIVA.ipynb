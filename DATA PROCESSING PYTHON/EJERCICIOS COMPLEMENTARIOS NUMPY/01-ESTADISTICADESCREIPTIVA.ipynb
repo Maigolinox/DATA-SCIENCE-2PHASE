{
 "cells": [
  {
   "cell_type": "markdown",
   "metadata": {},
   "source": [
    "# BUCLES\n",
    "Los bucles **for** sirven para iterar sobre una colección (lista, string u objeto iterable)"
   ]
  },
  {
   "cell_type": "code",
   "execution_count": 1,
   "metadata": {},
   "outputs": [],
   "source": [
    "LISTA=[1,2,3,4,5,6]"
   ]
  },
  {
   "cell_type": "code",
   "execution_count": 2,
   "metadata": {},
   "outputs": [
    {
     "name": "stdout",
     "output_type": "stream",
     "text": [
      "1\n",
      "2\n",
      "3\n",
      "4\n",
      "5\n",
      "6\n"
     ]
    }
   ],
   "source": [
    "for numero in LISTA:\n",
    "    print(numero)"
   ]
  },
  {
   "cell_type": "code",
   "execution_count": 3,
   "metadata": {},
   "outputs": [
    {
     "name": "stdout",
     "output_type": "stream",
     "text": [
      "0\n",
      "1\n",
      "2\n",
      "3\n",
      "4\n",
      "5\n",
      "6\n",
      "7\n",
      "8\n",
      "9\n"
     ]
    }
   ],
   "source": [
    "for x in range(0,10):\n",
    "    print(x)"
   ]
  },
  {
   "cell_type": "code",
   "execution_count": 4,
   "metadata": {},
   "outputs": [
    {
     "name": "stdout",
     "output_type": "stream",
     "text": [
      "T\n",
      "E\n",
      "R\n",
      "R\n",
      "O\n",
      "N\n"
     ]
    }
   ],
   "source": [
    "for caracter in \"TERRON\":\n",
    "    print(caracter)"
   ]
  },
  {
   "cell_type": "code",
   "execution_count": 6,
   "metadata": {},
   "outputs": [
    {
     "name": "stdout",
     "output_type": "stream",
     "text": [
      "9.0\n"
     ]
    }
   ],
   "source": [
    "calificaciones=[8,9,10,10,8]\n",
    "suma=0\n",
    "for acumulador in calificaciones:\n",
    "    suma=suma+acumulador\n",
    "print(suma/len(calificaciones))"
   ]
  },
  {
   "cell_type": "markdown",
   "metadata": {},
   "source": [
    "# WHILE \n",
    "Los bucles **while** se ejcutan hasta que una condicion booleana deja de ser verdadera"
   ]
  },
  {
   "cell_type": "code",
   "execution_count": 7,
   "metadata": {},
   "outputs": [
    {
     "name": "stdout",
     "output_type": "stream",
     "text": [
      "0\n",
      "1\n",
      "2\n",
      "3\n",
      "4\n",
      "5\n",
      "6\n",
      "7\n",
      "8\n",
      "9\n",
      "10\n"
     ]
    }
   ],
   "source": [
    "count=0\n",
    "while count<=10:\n",
    "    print (count)\n",
    "    count+=1"
   ]
  },
  {
   "cell_type": "markdown",
   "metadata": {},
   "source": [
    "# VARIANTE DE BUCLE FOR\n",
    "Hay una variante del ciclo **for** que sirve para obtener la posición de un elemento en una lista o de un string o de un elemento iterable, requiere del uso de dos indices comunmente el primero se le llama indice o index"
   ]
  },
  {
   "cell_type": "code",
   "execution_count": 8,
   "metadata": {},
   "outputs": [
    {
     "name": "stdout",
     "output_type": "stream",
     "text": [
      "0 2\n",
      "1 3\n",
      "2 5\n",
      "3 7\n",
      "4 11\n",
      "5 13\n",
      "6 17\n",
      "7 19\n",
      "8 23\n",
      "9 29\n"
     ]
    }
   ],
   "source": [
    "primos=[2,3, 5, 7, 11, 13, 17, 19, 23, 29]\n",
    "for index,p in enumerate(primos):\n",
    "    print(index,p)"
   ]
  },
  {
   "cell_type": "code",
   "execution_count": 11,
   "metadata": {},
   "outputs": [
    {
     "name": "stdout",
     "output_type": "stream",
     "text": [
      "0 2\n",
      "1 3\n",
      "2 5\n",
      "3 7\n",
      "4 11\n",
      "5 13\n",
      "6 17\n",
      "7 19\n",
      "8 23\n",
      "9 29\n"
     ]
    }
   ],
   "source": [
    "for index in range(len(primos)):\n",
    "    print(index,primos[index])"
   ]
  },
  {
   "cell_type": "markdown",
   "metadata": {},
   "source": [
    "# RETO DE LA CRIBA DE ERASTÓTENES"
   ]
  },
  {
   "cell_type": "code",
   "execution_count": 48,
   "metadata": {},
   "outputs": [
    {
     "name": "stdout",
     "output_type": "stream",
     "text": [
      "Escriba el valor de fin de la criba: 10\n",
      "La lista original es: [2, 3, 4, 5, 6, 7, 8, 9, 10]\n",
      "La lista de numeros primos es: [2, 3, 5, 7]\n"
     ]
    }
   ],
   "source": [
    "fincriba=int(input(\"Escriba el valor de fin de la criba: \"))+1\n",
    "numeroscriba=list(range(2,fincriba))\n",
    "primos=list(range(2,fincriba))\n",
    "i=0\n",
    "while (primos[i]*primos[i]<=fincriba):\n",
    "    for numeros in primos:\n",
    "        if numeros <= primos[i]:\n",
    "            continue\n",
    "        elif numeros%primos[i]==0:\n",
    "            primos.remove(numeros)\n",
    "        else:\n",
    "            pass\n",
    "    i+=1\n",
    "print(\"La lista original es: \"+str(numeroscriba))\n",
    "print(\"La lista de numeros primos es: \"+str(primos))\n",
    "            "
   ]
  },
  {
   "cell_type": "code",
   "execution_count": null,
   "metadata": {},
   "outputs": [],
   "source": [
    "n = int(input(\"Escriba el valor del fin de la criba de erastótenes: \"))\n",
    "lista = list(range(2, n+1))\n",
    "i = 0\n",
    "while(lista[i]*lista[i] <= n):# Mientras el cuadrado del elemento actual sea menor que el ultimo elemento\n",
    "    for num in lista:\n",
    "        if num <= lista[i]:\n",
    "            # Cada iteracion del while hace que el for comience desde el primer elemento. \n",
    "            # Esto es para omitir los numeros primos ya encontrados\n",
    "            continue\n",
    "        elif num % lista[i] == 0:\n",
    "            # Si un numero es divisible entre el elemento actual del while\n",
    "            # de ser asi, entonces eliminarlo de la lista (esto altera la lista)\n",
    "            lista.remove(num)\n",
    "        else:\n",
    "            # Si no es divisible, entonces omitirlo (no hacer nada)\n",
    "            pass\n",
    "    i += 1 # Incrementa al siguiente elemento de la lista (que ha sido alterada)\n",
    "print(lista)"
   ]
  },
  {
   "cell_type": "markdown",
   "metadata": {},
   "source": [
    "# TUPLAS EN PYTHON\n",
    "Son una colecciónde datos fijos, es decir, que no pueden cambair su valor ni su contenido\n",
    "## EJERCICIO 1\n",
    "Desarrollar un programa que pida una serie de numeros de teclado separados pór comas, transformar a lista y posteriormente transformar en tupla y mostrar como tupla en pantalla"
   ]
  },
  {
   "cell_type": "code",
   "execution_count": 56,
   "metadata": {},
   "outputs": [
    {
     "name": "stdout",
     "output_type": "stream",
     "text": [
      "Introduce los elementos, recuerda que deben ir separados por comas: 2,3,4,5,6,7,8\n",
      "2,3,4,5,6,7,8\n",
      "['2', '3', '4', '5', '6', '7', '8']\n",
      "('2', '3', '4', '5', '6', '7', '8')\n"
     ]
    }
   ],
   "source": [
    "c_n=str(input(\"Introduce los elementos, recuerda que deben ir separados por comas: \"))\n",
    "print(c_n)\n",
    "c_n=c_n.split(\",\")\n",
    "l=list(c_n)\n",
    "print(l)\n",
    "t=tuple(l)\n",
    "print(t)"
   ]
  },
  {
   "attachments": {},
   "cell_type": "markdown",
   "metadata": {},
   "source": [
    "# DICCIONARIOS/ARRAYS ASOCIATIVOS\n",
    "Colección no ordenada de pares de valores, se utilzian claves/id's que se asemejan y guardan una serie de valores dentro de u diccionario, se indexa no por posición sino utilizando las claves"
   ]
  },
  {
   "cell_type": "code",
   "execution_count": 62,
   "metadata": {},
   "outputs": [
    {
     "name": "stdout",
     "output_type": "stream",
     "text": [
      "Introduce aquí tu nombre: Victor Macias Terron Miguel\n",
      "Hola Victor Macias Terron Miguel\n"
     ]
    }
   ],
   "source": [
    "nombre=input(\"Introduce aquí tu nombre: \")\n",
    "print(\"Hola %s\"%nombre)"
   ]
  },
  {
   "cell_type": "code",
   "execution_count": 63,
   "metadata": {},
   "outputs": [
    {
     "name": "stdout",
     "output_type": "stream",
     "text": [
      "Esto es un numero: 3\n"
     ]
    }
   ],
   "source": [
    "numero=3\n",
    "print(\"Esto es un numero: %d\"%numero)"
   ]
  },
  {
   "cell_type": "code",
   "execution_count": 65,
   "metadata": {},
   "outputs": [
    {
     "name": "stdout",
     "output_type": "stream",
     "text": [
      "Esto es un número decimal: 3\n"
     ]
    }
   ],
   "source": [
    "numdec=3.141516\n",
    "print(\"Esto es un número decimal: %.0f\"%numdec)"
   ]
  },
  {
   "cell_type": "code",
   "execution_count": 66,
   "metadata": {},
   "outputs": [
    {
     "name": "stdout",
     "output_type": "stream",
     "text": [
      "Esto es un número decimal: 3.14\n"
     ]
    }
   ],
   "source": [
    "print(\"Esto es un número decimal: %.2f\"%numdec)"
   ]
  },
  {
   "cell_type": "code",
   "execution_count": 67,
   "metadata": {},
   "outputs": [],
   "source": [
    "edades={\n",
    "    \"VTERRON\":21,\n",
    "    \"MTERRON\":52,\n",
    "    \"CTERRON\":20\n",
    "}"
   ]
  },
  {
   "cell_type": "markdown",
   "metadata": {},
   "source": [
    "En un diccionario no hay concepto de posiciones, en lugar de ello es una clave la que se tiene que buscar, veamos la siguiente linea para saber de que hablo:"
   ]
  },
  {
   "cell_type": "code",
   "execution_count": 68,
   "metadata": {},
   "outputs": [
    {
     "data": {
      "text/plain": [
       "52"
      ]
     },
     "execution_count": 68,
     "metadata": {},
     "output_type": "execute_result"
    }
   ],
   "source": [
    "edades[\"MTERRON\"]"
   ]
  },
  {
   "cell_type": "code",
   "execution_count": 69,
   "metadata": {},
   "outputs": [],
   "source": [
    "edades[\"MTERRON\"]=26"
   ]
  },
  {
   "cell_type": "code",
   "execution_count": 70,
   "metadata": {},
   "outputs": [
    {
     "data": {
      "text/plain": [
       "{'VTERRON': 21, 'MTERRON': 26, 'CTERRON': 20}"
      ]
     },
     "execution_count": 70,
     "metadata": {},
     "output_type": "execute_result"
    }
   ],
   "source": [
    "edades"
   ]
  },
  {
   "cell_type": "code",
   "execution_count": 71,
   "metadata": {},
   "outputs": [
    {
     "data": {
      "text/plain": [
       "dict_keys(['VTERRON', 'MTERRON', 'CTERRON'])"
      ]
     },
     "execution_count": 71,
     "metadata": {},
     "output_type": "execute_result"
    }
   ],
   "source": [
    "edades.keys()#PARA VER TODAS LAS CLAVES"
   ]
  },
  {
   "cell_type": "code",
   "execution_count": 72,
   "metadata": {},
   "outputs": [
    {
     "data": {
      "text/plain": [
       "dict_values([21, 26, 20])"
      ]
     },
     "execution_count": 72,
     "metadata": {},
     "output_type": "execute_result"
    }
   ],
   "source": [
    "edades.values()#PARA VER SOLO LOS VALORES"
   ]
  },
  {
   "cell_type": "code",
   "execution_count": 73,
   "metadata": {},
   "outputs": [
    {
     "data": {
      "text/plain": [
       "True"
      ]
     },
     "execution_count": 73,
     "metadata": {},
     "output_type": "execute_result"
    }
   ],
   "source": [
    "\"VTERRON\" in edades"
   ]
  },
  {
   "cell_type": "code",
   "execution_count": 74,
   "metadata": {},
   "outputs": [
    {
     "data": {
      "text/plain": [
       "True"
      ]
     },
     "execution_count": 74,
     "metadata": {},
     "output_type": "execute_result"
    }
   ],
   "source": [
    "\"MANUEL\" not in edades"
   ]
  },
  {
   "cell_type": "code",
   "execution_count": 75,
   "metadata": {},
   "outputs": [],
   "source": [
    "del edades[\"VTERRON\"]"
   ]
  },
  {
   "cell_type": "code",
   "execution_count": 76,
   "metadata": {},
   "outputs": [
    {
     "data": {
      "text/plain": [
       "dict_keys(['MTERRON', 'CTERRON'])"
      ]
     },
     "execution_count": 76,
     "metadata": {},
     "output_type": "execute_result"
    }
   ],
   "source": [
    "edades.keys()"
   ]
  },
  {
   "cell_type": "code",
   "execution_count": null,
   "metadata": {},
   "outputs": [],
   "source": []
  }
 ],
 "metadata": {
  "kernelspec": {
   "display_name": "Python 3",
   "language": "python",
   "name": "python3"
  },
  "language_info": {
   "codemirror_mode": {
    "name": "ipython",
    "version": 3
   },
   "file_extension": ".py",
   "mimetype": "text/x-python",
   "name": "python",
   "nbconvert_exporter": "python",
   "pygments_lexer": "ipython3",
   "version": "3.8.5"
  }
 },
 "nbformat": 4,
 "nbformat_minor": 4
}

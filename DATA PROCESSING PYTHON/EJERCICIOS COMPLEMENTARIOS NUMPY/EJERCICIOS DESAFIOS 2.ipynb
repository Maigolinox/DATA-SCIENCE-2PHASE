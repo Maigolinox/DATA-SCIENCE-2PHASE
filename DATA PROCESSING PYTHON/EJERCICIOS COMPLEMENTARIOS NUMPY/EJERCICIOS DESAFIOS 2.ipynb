{
 "cells": [
  {
   "cell_type": "code",
   "execution_count": 60,
   "metadata": {},
   "outputs": [
    {
     "name": "stdout",
     "output_type": "stream",
     "text": [
      "Introduce un numero: -5\n",
      "El numero es negativo\n"
     ]
    }
   ],
   "source": [
    "x=int(input(\"Introduce un numero: \"))\n",
    "if x>=0:\n",
    "    print(\"El numero es positivo\")\n",
    "else:\n",
    "    print(\"El numero es negativo\")"
   ]
  },
  {
   "cell_type": "code",
   "execution_count": 53,
   "metadata": {},
   "outputs": [
    {
     "name": "stdout",
     "output_type": "stream",
     "text": [
      "Introduce un numero: 6\n",
      "El numero no está en el rango [-5,5]\n"
     ]
    }
   ],
   "source": [
    "x=int(input(\"Introduce un numero: \"))\n",
    "if x>=-5 and x<=5:\n",
    "    print(\"El numero si está en el intervalo [-5,5]\")\n",
    "else:\n",
    "    print(\"El numero no está en el rango [-5,5]\")"
   ]
  },
  {
   "cell_type": "code",
   "execution_count": 29,
   "metadata": {},
   "outputs": [
    {
     "name": "stdout",
     "output_type": "stream",
     "text": [
      "Introduce la coordenada x: -5\n",
      "Introduce la coordenada y: -3\n",
      "Las coordenadas están en el tercer cuadrante\n"
     ]
    }
   ],
   "source": [
    "x=int(input(\"Introduce la coordenada x: \"))\n",
    "y=int(input(\"Introduce la coordenada y: \"))\n",
    "if x>=0 and y>=0:\n",
    "    print(\"Las coordenadas están en el primer cuadrante\")\n",
    "elif x>=0 and y<=0:\n",
    "    print(\"Las coordenadas están en el cuarto cuadrante\")\n",
    "elif x<=0 and y<=0:\n",
    "    print(\"Las coordenadas están en el tercer cuadrante\")\n",
    "else:\n",
    "    print(\"Las coordenadas están en el segundo cuadrante\")"
   ]
  },
  {
   "cell_type": "code",
   "execution_count": 34,
   "metadata": {},
   "outputs": [
    {
     "name": "stdout",
     "output_type": "stream",
     "text": [
      "Introduce la coordenada x: 5\n",
      "Introduce la coordenada y: 6\n",
      "El cociente de la división es: 0.0\n",
      "El residuo de la división es: 5.0\n"
     ]
    }
   ],
   "source": [
    "import math\n",
    "x=float(input(\"Introduce la coordenada x: \"))\n",
    "y=float(input(\"Introduce la coordenada y: \"))\n",
    "cociente=x//y\n",
    "print(\"El cociente de la división es: \"+str(cociente))\n",
    "residuo=math.fmod(x,y)\n",
    "print(\"El residuo de la división es: \"+str(math.fmod(x,y)))"
   ]
  },
  {
   "cell_type": "code",
   "execution_count": 58,
   "metadata": {},
   "outputs": [
    {
     "name": "stdout",
     "output_type": "stream",
     "text": [
      "Introduce el numero para verificar si es cuadrado perfecto: 4\n",
      "Es un cuadrado perfecto\n"
     ]
    }
   ],
   "source": [
    "x=int(input(\"Introduce el numero para verificar si es cuadrado perfecto: \"))\n",
    "n=int(math.sqrt(x))\n",
    "if n==math.sqrt(x):\n",
    "    print(\"Es un cuadrado perfecto\")\n",
    "else:\n",
    "    print(\"No es cuadrado perfecto\")"
   ]
  },
  {
   "cell_type": "code",
   "execution_count": 51,
   "metadata": {},
   "outputs": [
    {
     "name": "stdout",
     "output_type": "stream",
     "text": [
      "Introduce el año que quieres revisar si es bisiesto o no: 2100\n",
      "No es bisiesto\n"
     ]
    }
   ],
   "source": [
    "x=int(input(\"Introduce el año que quieres revisar si es bisiesto o no: \"))\n",
    "if math.fmod(x,4)==0 and math.fmod(x,100)!=0 or math.fmod(x,400)==0:\n",
    "    print(\"Es bisiesto\")\n",
    "else:\n",
    "    print(\"No es bisiesto\")"
   ]
  },
  {
   "cell_type": "code",
   "execution_count": 59,
   "metadata": {},
   "outputs": [
    {
     "name": "stdout",
     "output_type": "stream",
     "text": [
      "Escriba una letra correspondiente a una casilla del tablero de ajedrezA\n",
      "Escriba un número correspondiente a una casilla del tablero de ajedrez1\n",
      "La casilla A1 del tablero de ajedrez ES NEGRA.\n"
     ]
    }
   ],
   "source": [
    "#TABLERO DE AJEDREZ\n",
    "import string\n",
    "letra_casilla = str(input('Escriba una letra correspondiente a una casilla del tablero de ajedrez'))[0].upper()\n",
    "num_casilla = int(input('Escriba un número correspondiente a una casilla del tablero de ajedrez'))\n",
    "casilla = letra_casilla + str(num_casilla) \n",
    "letras_ajedrez = ['A', 'B','C','D','E','F','G','H']\n",
    "\n",
    "if (letra_casilla not in letras_ajedrez) or (num_casilla-1 not in range(8)):\n",
    "    print('La casilla ' + casilla + ' NO EXISTE en el tablero de ajedrez.')\n",
    "else: \n",
    "    pos = letras_ajedrez.index(letra_casilla)+1\n",
    "    if int(pos + num_casilla) % 2 == 0:\n",
    "        print('La casilla ' + casilla + ' del tablero de ajedrez ES NEGRA.')\n",
    "    else:\n",
    "        print('La casilla ' + casilla + ' del tablero de ajedrez ES BLANCA.')"
   ]
  },
  {
   "cell_type": "code",
   "execution_count": null,
   "metadata": {},
   "outputs": [],
   "source": []
  }
 ],
 "metadata": {
  "kernelspec": {
   "display_name": "Python 3",
   "language": "python",
   "name": "python3"
  },
  "language_info": {
   "codemirror_mode": {
    "name": "ipython",
    "version": 3
   },
   "file_extension": ".py",
   "mimetype": "text/x-python",
   "name": "python",
   "nbconvert_exporter": "python",
   "pygments_lexer": "ipython3",
   "version": "3.8.5"
  }
 },
 "nbformat": 4,
 "nbformat_minor": 4
}

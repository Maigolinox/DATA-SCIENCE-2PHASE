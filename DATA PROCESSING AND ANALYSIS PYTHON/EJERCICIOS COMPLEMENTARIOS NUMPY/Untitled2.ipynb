{
 "cells": [
  {
   "cell_type": "markdown",
   "metadata": {},
   "source": [
    "# SESION 2 ESTRUCTURAS DE DATOS CON PYTHON\n"
   ]
  },
  {
   "cell_type": "code",
   "execution_count": 2,
   "metadata": {},
   "outputs": [
    {
     "ename": "NameError",
     "evalue": "name 'mi_informacion' is not defined",
     "output_type": "error",
     "traceback": [
      "\u001b[1;31m---------------------------------------------------------------------------\u001b[0m",
      "\u001b[1;31mNameError\u001b[0m                                 Traceback (most recent call last)",
      "\u001b[1;32m<ipython-input-2-572c75fa7b31>\u001b[0m in \u001b[0;36m<module>\u001b[1;34m\u001b[0m\n\u001b[0;32m      1\u001b[0m mi_informacion =print(f'''\n\u001b[1;32m----> 2\u001b[1;33m \u001b[0;31m¡\u001b[0m\u001b[0mHola\u001b[0m\u001b[0;31m!\u001b[0m \u001b[0mMi\u001b[0m \u001b[0mnombre\u001b[0m \u001b[0mes\u001b[0m \u001b[1;33m{\u001b[0m\u001b[0mmi_informacion\u001b[0m\u001b[1;33m[\u001b[0m\u001b[1;36m0\u001b[0m\u001b[1;33m]\u001b[0m\u001b[1;33m}\u001b[0m\u001b[1;33m.\u001b[0m \u001b[0mTodos\u001b[0m \u001b[0mme\u001b[0m \u001b[0mdicen\u001b[0m \u001b[1;33m{\u001b[0m\u001b[0mmi_informacion\u001b[0m\u001b[1;33m[\u001b[0m\u001b[1;36m1\u001b[0m\u001b[1;33m]\u001b[0m\u001b[1;33m}\u001b[0m\u001b[1;33m.\u001b[0m\u001b[1;33m\u001b[0m\u001b[1;33m\u001b[0m\u001b[0m\n\u001b[0m\u001b[0;32m      3\u001b[0m \u001b[0mMi\u001b[0m \u001b[0mcomida\u001b[0m \u001b[0mfavorita\u001b[0m \u001b[0mes\u001b[0m \u001b[1;33m{\u001b[0m\u001b[0mmi_informacion\u001b[0m\u001b[1;33m[\u001b[0m\u001b[1;36m2\u001b[0m\u001b[1;33m]\u001b[0m\u001b[1;33m}\u001b[0m\u001b[1;33m.\u001b[0m \u001b[0mY\u001b[0m \u001b[0mla\u001b[0m \u001b[0mcomida\u001b[0m \u001b[0mque\u001b[0m \u001b[0mmás\u001b[0m \u001b[0mdetesto\u001b[0m \u001b[0mes\u001b[0m \u001b[1;33m{\u001b[0m\u001b[0mmi_informacion\u001b[0m\u001b[1;33m[\u001b[0m\u001b[1;36m3\u001b[0m\u001b[1;33m]\u001b[0m\u001b[1;33m}\u001b[0m\u001b[1;33m.\u001b[0m\u001b[1;33m\u001b[0m\u001b[1;33m\u001b[0m\u001b[0m\n\u001b[0;32m      4\u001b[0m \u001b[0mMi\u001b[0m \u001b[0mtrabajo\u001b[0m \u001b[0mideal\u001b[0m \u001b[0msería\u001b[0m \u001b[1;33m{\u001b[0m\u001b[0mmi_informacion\u001b[0m\u001b[1;33m[\u001b[0m\u001b[1;36m4\u001b[0m\u001b[1;33m]\u001b[0m\u001b[1;33m}\u001b[0m\u001b[1;33m.\u001b[0m\u001b[1;33m\u001b[0m\u001b[1;33m\u001b[0m\u001b[0m\n\u001b[0;32m      5\u001b[0m \u001b[0;31m¡\u001b[0m\u001b[0mGracias\u001b[0m\u001b[1;33m,\u001b[0m \u001b[0mchau\u001b[0m\u001b[0;31m!\u001b[0m\u001b[1;33m\u001b[0m\u001b[1;33m\u001b[0m\u001b[0m\n",
      "\u001b[1;31mNameError\u001b[0m: name 'mi_informacion' is not defined"
     ]
    }
   ],
   "source": [
    "mi_informacion =print(f'''\n",
    "¡Hola! Mi nombre es {mi_informacion[0]}. Todos me dicen {mi_informacion[1]}.\n",
    "Mi comida favorita es {mi_informacion[2]}. Y la comida que más detesto es {mi_informacion[3]}.\n",
    "Mi trabajo ideal sería {mi_informacion[4]}.\n",
    "¡Gracias, chau!\n",
    "''')"
   ]
  },
  {
   "cell_type": "code",
   "execution_count": null,
   "metadata": {},
   "outputs": [],
   "source": []
  },
  {
   "cell_type": "code",
   "execution_count": null,
   "metadata": {},
   "outputs": [],
   "source": []
  }
 ],
 "metadata": {
  "kernelspec": {
   "display_name": "Python 3",
   "language": "python",
   "name": "python3"
  },
  "language_info": {
   "codemirror_mode": {
    "name": "ipython",
    "version": 3
   },
   "file_extension": ".py",
   "mimetype": "text/x-python",
   "name": "python",
   "nbconvert_exporter": "python",
   "pygments_lexer": "ipython3",
   "version": "3.8.5"
  }
 },
 "nbformat": 4,
 "nbformat_minor": 4
}

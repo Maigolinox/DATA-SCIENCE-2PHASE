{
 "cells": [
  {
   "cell_type": "markdown",
   "metadata": {},
   "source": [
    "# SESION 1 BEDU PROCESAMIENTO DE DATOS CON PYTHON\n",
    "Sesion 1"
   ]
  },
  {
   "cell_type": "code",
   "execution_count": 8,
   "metadata": {},
   "outputs": [],
   "source": [
    "import math"
   ]
  },
  {
   "cell_type": "code",
   "execution_count": 13,
   "metadata": {},
   "outputs": [],
   "source": [
    "var1=4\n",
    "var2=10\n",
    "var3=6\n",
    "var4=8\n",
    "var5=2"
   ]
  },
  {
   "cell_type": "code",
   "execution_count": 14,
   "metadata": {},
   "outputs": [
    {
     "data": {
      "text/plain": [
       "14"
      ]
     },
     "execution_count": 14,
     "metadata": {},
     "output_type": "execute_result"
    }
   ],
   "source": [
    "var1+var2"
   ]
  },
  {
   "cell_type": "code",
   "execution_count": 15,
   "metadata": {},
   "outputs": [
    {
     "data": {
      "text/plain": [
       "-4"
      ]
     },
     "execution_count": 15,
     "metadata": {},
     "output_type": "execute_result"
    }
   ],
   "source": [
    "var3-var2"
   ]
  },
  {
   "cell_type": "code",
   "execution_count": 16,
   "metadata": {},
   "outputs": [
    {
     "data": {
      "text/plain": [
       "24"
      ]
     },
     "execution_count": 16,
     "metadata": {},
     "output_type": "execute_result"
    }
   ],
   "source": [
    "var3*var1"
   ]
  },
  {
   "cell_type": "markdown",
   "metadata": {},
   "source": [
    "# TIPOS DE DATOS\n",
    "\n",
    "* Número entero __int__\n",
    "* Numero decimal __float__\n",
    "* Texto __string__"
   ]
  },
  {
   "cell_type": "code",
   "execution_count": 20,
   "metadata": {},
   "outputs": [
    {
     "data": {
      "text/plain": [
       "str"
      ]
     },
     "execution_count": 20,
     "metadata": {},
     "output_type": "execute_result"
    }
   ],
   "source": [
    "type(var1)\n",
    "var2=5.555\n",
    "type(var2)\n",
    "var3='TERRON'\n",
    "type(var3)"
   ]
  },
  {
   "cell_type": "markdown",
   "metadata": {},
   "source": [
    "#  RETO 3\n"
   ]
  },
  {
   "cell_type": "code",
   "execution_count": 22,
   "metadata": {},
   "outputs": [],
   "source": [
    "nombre_1 = \"Jenny\"\n",
    "nombre_2 = \"Marco P.\"\n",
    "\n",
    "edad_1 = 110\n",
    "edad_2 = 42\n",
    "\n",
    "estrella_1 = \"Woopsie Doopsies\"\n",
    "estrella_2 = \"Omega-3\"\n",
    "estrella_3 = \"Justin Bieber\"\n",
    "estrella_4 = \"La Twinkle\"\n",
    "estrella_5 = \"Rosaberta\"\n",
    "\n",
    "total_de_nombres_de_estrellas_mencionados = 5\n",
    "numero_de_estrellas_deseadas = 325"
   ]
  },
  {
   "cell_type": "code",
   "execution_count": 29,
   "metadata": {},
   "outputs": [
    {
     "name": "stdout",
     "output_type": "stream",
     "text": [
      "Jenny y Marco P. son grandes amigues. Les mejores. Van y vienen juntos desde hace décadas. Sí, décadas. Jenny tiene 110 años y Marco P. 42. Si sumas sus edades, obtienes 152, que curiosamente es el número de estrellas que Jenny y Marco P. han nombrado juntos. Sus estrellas son su mayor fascinación. Las compraron en Best Buy en una ganga de objetos celestes. Están Woopsie Doopsies, Omega-3, Justin Bieber, La Twinkle, Rosaberta y otras 147 estrellas más. Jenny y Marco P. tienen planeado sobrevivir hasta el siglo XXII. ¡Cuántas estrellas más habrán de comprar y nombrar juntos! Su meta es 325. Sólo faltan 257. ¡Vamos Jenny y Marco P.! Jenny y Marco P. son les mejores amigues. No hay duda alguna.\n"
     ]
    }
   ],
   "source": [
    "print(f\"{nombre_1} y {nombre_2} son grandes amigues. Les mejores. Van y vienen juntos desde hace décadas. Sí, décadas. {nombre_1} tiene {edad_1} años y {nombre_2} {edad_2}. Si sumas sus edades, obtienes {edad_1 + edad_2}, que curiosamente es el número de estrellas que {nombre_1} y {nombre_2} han nombrado juntos. Sus estrellas son su mayor fascinación. Las compraron en Best Buy en una ganga de objetos celestes. Están {estrella_1}, {estrella_2}, {estrella_3}, {estrella_4}, {estrella_5} y otras {edad_1 + edad_2 - total_de_nombres_de_estrellas_mencionados} estrellas más. {nombre_1} y {nombre_2} tienen planeado sobrevivir hasta el siglo XXII. ¡Cuántas estrellas más habrán de comprar y nombrar juntos! Su meta es {numero_de_estrellas_deseadas}. Sólo faltan {numero_de_estrellas_deseadas - edad_1 + edad_2}. ¡Vamos {nombre_1} y {nombre_2}! {nombre_1} y {nombre_2} son les mejores amigues. No hay duda alguna.\")"
   ]
  },
  {
   "cell_type": "code",
   "execution_count": 30,
   "metadata": {},
   "outputs": [
    {
     "data": {
      "text/plain": [
       "True"
      ]
     },
     "execution_count": 30,
     "metadata": {},
     "output_type": "execute_result"
    }
   ],
   "source": [
    "var_1 = 3\n",
    "var_2 = 5\n",
    "var_3 = 9\n",
    "var_4 = 1\n",
    "var_5 = 9\n",
    "var_6 = -6\n",
    "var_7 = 5\n",
    "var_8 = 4\n",
    "\n",
    "var_1 > var_3  # Resultado esperado: False\n",
    "\n",
    "var_1> var_4 # Resultado esperado: True\n",
    "\n",
    "var_2 >=var_7  # Resultado esperado: True\n",
    "\n",
    "var_8 >var_6  # Resultado esperado: True\n",
    "\n",
    "var_3 >var_5  # Resultado esperado: False\n",
    "\n",
    "var_1 <var_3  # Resultado esperado: True\n",
    "\n",
    "var_5 <var_4  # Resultado esperado: False\n",
    "\n",
    "var_3 <=var_5  # Resultado esperado: True\n",
    "\n",
    "\n"
   ]
  },
  {
   "cell_type": "code",
   "execution_count": null,
   "metadata": {},
   "outputs": [],
   "source": []
  }
 ],
 "metadata": {
  "kernelspec": {
   "display_name": "Python 3",
   "language": "python",
   "name": "python3"
  },
  "language_info": {
   "codemirror_mode": {
    "name": "ipython",
    "version": 3
   },
   "file_extension": ".py",
   "mimetype": "text/x-python",
   "name": "python",
   "nbconvert_exporter": "python",
   "pygments_lexer": "ipython3",
   "version": "3.8.5"
  }
 },
 "nbformat": 4,
 "nbformat_minor": 4
}
